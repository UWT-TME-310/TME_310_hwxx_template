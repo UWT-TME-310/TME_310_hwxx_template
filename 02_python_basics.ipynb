{
 "cells": [
  {
   "cell_type": "markdown",
   "id": "ecf96ee9",
   "metadata": {},
   "source": [
    "---\n",
    "title: Python Basics for Computational Physical Modeling\n",
    "---\n",
    "\n",
    "Welcome to Python! This notebook will introduce you to the fundamental concepts you need to start modeling physical systems computationally.\n",
    "\n",
    "## What will be covered\n",
    "\n",
    "1.  **Data Types** - Kinds of information\n",
    "2.  **Variables** - Where information is stored\n",
    "3.  **Numbers and Math** - How calculations are done\n",
    "4.  **Strings** - Text objects\n",
    "5.  **Lists** - A built in way to organize data\n",
    "6.  **Conditionals** - How we ask questions about data\n",
    "7.  **Loops** - Doing repetitive things automatically\n",
    "\n",
    "## Data Types\n",
    "\n",
    "There are different kinds of information we can store in Python - these are called **types**. Python has several built in data types. Today, we'll cover some of the most commonly-used ones:\n",
    "\n",
    "-   `int` (numeric integers)\n",
    "-   `float` (numeric real numbers)\n",
    "-   `bool` (true or false)\n",
    "-   `string` (text)\n",
    "-   `list` (collection of other objects)\n",
    "\n",
    "### `int`\n",
    "\n",
    "An `int` is an integer value (e.g., `1` or `-395`). In Python, we can check the type of an object with the built-in `type()` function."
   ]
  },
  {
   "cell_type": "code",
   "execution_count": null,
   "id": "5b20d523",
   "metadata": {},
   "outputs": [],
   "source": [
    "\n"
   ]
  },
  {
   "cell_type": "code",
   "execution_count": null,
   "id": "98d95cfe",
   "metadata": {},
   "outputs": [],
   "source": [
    "\n"
   ]
  },
  {
   "cell_type": "markdown",
   "id": "0750cdb2",
   "metadata": {},
   "source": [
    "### `float`\n",
    "\n",
    "A `float` is another numeric data type in Python. Unlike an `int`, a `float` is a real number that can have several decimal places. For example:"
   ]
  },
  {
   "cell_type": "code",
   "execution_count": null,
   "id": "5e872715",
   "metadata": {},
   "outputs": [],
   "source": []
  },
  {
   "cell_type": "markdown",
   "id": "6ab41f30",
   "metadata": {},
   "source": [
    "Note that any number with a decimal place will be interpreted as a `float` by Python, even if there's nothing after the decimal place:"
   ]
  },
  {
   "cell_type": "code",
   "execution_count": null,
   "id": "dfc1f321",
   "metadata": {},
   "outputs": [],
   "source": []
  },
  {
   "cell_type": "markdown",
   "id": "14ecd140",
   "metadata": {},
   "source": [
    "### `bool`\n",
    "\n",
    "A `bool` (boolean) represents True or False values. These are useful for yes/no questions."
   ]
  },
  {
   "cell_type": "code",
   "execution_count": null,
   "id": "a9bf3a55",
   "metadata": {},
   "outputs": [],
   "source": []
  },
  {
   "cell_type": "code",
   "execution_count": null,
   "id": "af73fb01",
   "metadata": {},
   "outputs": [],
   "source": []
  },
  {
   "cell_type": "markdown",
   "id": "aa270f1b",
   "metadata": {},
   "source": [
    "### `str`\n",
    "\n",
    "A string (or `str`) represents text. Strings are surrounded by quotes. Either single or double quotes can be used to surround strings:"
   ]
  },
  {
   "cell_type": "code",
   "execution_count": null,
   "id": "4331040d",
   "metadata": {},
   "outputs": [],
   "source": []
  },
  {
   "cell_type": "code",
   "execution_count": null,
   "id": "e0d4bc9d",
   "metadata": {},
   "outputs": [],
   "source": []
  },
  {
   "cell_type": "markdown",
   "id": "3ae04389",
   "metadata": {},
   "source": [
    "It's considered best practice to use double quotes for strings even though single quotes are accepted by Python. More importantly, whichever kind of quote starts the string has to be used to close it, or you'll get a syntax error!"
   ]
  },
  {
   "cell_type": "code",
   "execution_count": null,
   "id": "87b9004a",
   "metadata": {},
   "outputs": [],
   "source": []
  },
  {
   "cell_type": "markdown",
   "id": "7ab74991",
   "metadata": {},
   "source": [
    "### `list`\n",
    "\n",
    "A `list` is a collection of other objects. Lists are surrounded by square brackets `[]` with their elements separated by commas."
   ]
  },
  {
   "cell_type": "code",
   "execution_count": null,
   "id": "397c656b",
   "metadata": {},
   "outputs": [],
   "source": []
  },
  {
   "cell_type": "markdown",
   "id": "35054ae1",
   "metadata": {},
   "source": [
    "The elements of a list don't need to be the same type."
   ]
  },
  {
   "cell_type": "code",
   "execution_count": null,
   "id": "e5d72cb6",
   "metadata": {},
   "outputs": [],
   "source": []
  },
  {
   "cell_type": "code",
   "execution_count": null,
   "id": "dd872a6e",
   "metadata": {},
   "outputs": [],
   "source": []
  },
  {
   "cell_type": "markdown",
   "id": "45340ce1",
   "metadata": {},
   "source": [
    "## Variables\n",
    "\n",
    "Variables are names that refer to objects. We create variables using the assignment operator `=`."
   ]
  },
  {
   "cell_type": "code",
   "execution_count": null,
   "id": "a1ef55af",
   "metadata": {},
   "outputs": [],
   "source": []
  },
  {
   "cell_type": "markdown",
   "id": "a04fab3c",
   "metadata": {},
   "source": [
    "Jupyter will automatically display the output of the last line in a cell if it is an expression or variable, and not assigned to anything. That's why writing `x` on the last line in the cell above resulted in the value assigned to `x` being displayed.\n",
    "\n",
    "But that automatic display only happens for the **last line** in a cell."
   ]
  },
  {
   "cell_type": "code",
   "execution_count": null,
   "id": "82a01296",
   "metadata": {},
   "outputs": [],
   "source": []
  },
  {
   "cell_type": "markdown",
   "id": "a2e588a0",
   "metadata": {},
   "source": [
    "In general, it's better to explicitly tell Python what to display with the `print()` function, which does not need to be on any particular line."
   ]
  },
  {
   "cell_type": "code",
   "execution_count": null,
   "id": "cf92e5cc",
   "metadata": {},
   "outputs": [],
   "source": []
  },
  {
   "cell_type": "markdown",
   "id": "8c7fc20a",
   "metadata": {},
   "source": [
    "Any data type can be assigned to a variable:"
   ]
  },
  {
   "cell_type": "code",
   "execution_count": null,
   "id": "7aa188a5",
   "metadata": {},
   "outputs": [],
   "source": []
  },
  {
   "cell_type": "markdown",
   "id": "2320b080",
   "metadata": {},
   "source": [
    "The value of one variable can be assigned to another, too:"
   ]
  },
  {
   "cell_type": "code",
   "execution_count": null,
   "id": "c3c4501f",
   "metadata": {},
   "outputs": [],
   "source": []
  },
  {
   "cell_type": "code",
   "execution_count": null,
   "id": "40cf6aff",
   "metadata": {},
   "outputs": [],
   "source": []
  },
  {
   "cell_type": "code",
   "execution_count": null,
   "id": "428f064b",
   "metadata": {},
   "outputs": [],
   "source": []
  },
  {
   "cell_type": "code",
   "execution_count": null,
   "id": "c11c4001",
   "metadata": {},
   "outputs": [],
   "source": []
  },
  {
   "cell_type": "code",
   "execution_count": null,
   "id": "c09406e7",
   "metadata": {},
   "outputs": [],
   "source": []
  },
  {
   "cell_type": "code",
   "execution_count": null,
   "id": "8ca41407",
   "metadata": {},
   "outputs": [],
   "source": []
  },
  {
   "cell_type": "code",
   "execution_count": null,
   "id": "a0c30416",
   "metadata": {},
   "outputs": [],
   "source": []
  },
  {
   "cell_type": "code",
   "execution_count": null,
   "id": "7f85dc43",
   "metadata": {},
   "outputs": [],
   "source": []
  },
  {
   "cell_type": "code",
   "execution_count": null,
   "id": "9437ba53",
   "metadata": {},
   "outputs": [],
   "source": []
  },
  {
   "cell_type": "markdown",
   "id": "3dfc73ca",
   "metadata": {},
   "source": [
    "## Strings\n",
    "\n",
    "Although strings are text, not numbers, some of the operators discussed above can be used with strings. But, of course, they have different meanings when text is involved.\n",
    "\n",
    "For example, \"adding\" two strings sticks the two pieces of text together:"
   ]
  },
  {
   "cell_type": "code",
   "execution_count": null,
   "id": "730691fc",
   "metadata": {},
   "outputs": [],
   "source": []
  },
  {
   "cell_type": "markdown",
   "id": "08719832",
   "metadata": {},
   "source": [
    "Multiplying a string creates multiple copies of the original text and sticks them all together:"
   ]
  },
  {
   "cell_type": "code",
   "execution_count": null,
   "id": "769bb0f0",
   "metadata": {},
   "outputs": [],
   "source": []
  },
  {
   "cell_type": "markdown",
   "id": "dd4b8728",
   "metadata": {},
   "source": [
    "Other operators (like `-` or `/`) don't have unique meaning with strings, so they aren't allowed. Trying to use them will result in an error:"
   ]
  },
  {
   "cell_type": "code",
   "execution_count": null,
   "id": "8d4a7b4d",
   "metadata": {},
   "outputs": [],
   "source": []
  },
  {
   "cell_type": "markdown",
   "id": "8a0dcb57",
   "metadata": {},
   "source": [
    "The `len()` function returns the number of characters in a string:"
   ]
  },
  {
   "cell_type": "code",
   "execution_count": null,
   "id": "a9745f80",
   "metadata": {},
   "outputs": [],
   "source": []
  },
  {
   "cell_type": "markdown",
   "id": "d8056ce5",
   "metadata": {},
   "source": [
    "One of the most useful features Python has for strings is the \"F-string\". With F-strings, you can put variables inside your strings (inside curly braces `{}`) and get the variable value inserted into your string."
   ]
  },
  {
   "cell_type": "code",
   "execution_count": null,
   "id": "c6742043",
   "metadata": {},
   "outputs": [],
   "source": []
  },
  {
   "cell_type": "markdown",
   "id": "09aade83",
   "metadata": {},
   "source": [
    "Strings are **indexed**, which means that each character in the string has a numbered position (called an index). You can access the $n$th character in a string putting the index you want in square brackets after the string:"
   ]
  },
  {
   "cell_type": "code",
   "execution_count": null,
   "id": "351e25e3",
   "metadata": {},
   "outputs": [],
   "source": []
  },
  {
   "cell_type": "markdown",
   "id": "e13bdcd4",
   "metadata": {},
   "source": [
    "Depending on what languages you've programmed in before, you may have expected `my_string[2]` to return `b` since that's the 2nd character in the string. But Python is a \"zero-indexed\" language, so counting always starts at zero. To get the first character in the string, we need to put `0` in square brackets:"
   ]
  },
  {
   "cell_type": "code",
   "execution_count": null,
   "id": "cd41b2bf",
   "metadata": {},
   "outputs": [],
   "source": []
  },
  {
   "cell_type": "markdown",
   "id": "4cacf814",
   "metadata": {},
   "source": [
    "Trying to access an index past the end of the string will cause an error:"
   ]
  },
  {
   "cell_type": "code",
   "execution_count": null,
   "id": "ad8b1478",
   "metadata": {},
   "outputs": [],
   "source": []
  },
  {
   "cell_type": "markdown",
   "id": "16450b84",
   "metadata": {},
   "source": [
    "Notice that the trying to access and index equal to the length of the string causes `IndexError: string index out of range` because the indexing starts at 0! That means that the last entry in the string will have the value `len(my_string) - 1`.\n",
    "\n",
    "In fact, Python supports negative indexing without needing to find the length of the string. The last entry in the string has index `-1`; and the second to last entry has index `-2`, and so on."
   ]
  },
  {
   "cell_type": "code",
   "execution_count": null,
   "id": "697523e9",
   "metadata": {},
   "outputs": [],
   "source": []
  },
  {
   "cell_type": "code",
   "execution_count": null,
   "id": "d27c405c",
   "metadata": {},
   "outputs": [],
   "source": []
  },
  {
   "cell_type": "markdown",
   "id": "d8c6f6aa",
   "metadata": {},
   "source": [
    "## Lists\n",
    "\n",
    "We've already seen that lists are containers that hold objects. Now we'll discuss how to interact with these containers.\n",
    "\n",
    "Like strings, lists are indexed data types, so we can use the indexing syntax to access specific values in a list:"
   ]
  },
  {
   "cell_type": "code",
   "execution_count": null,
   "id": "d48f7352",
   "metadata": {},
   "outputs": [],
   "source": []
  },
  {
   "cell_type": "markdown",
   "id": "4fbb2c41",
   "metadata": {},
   "source": [
    "One of the key differences between lists and strings is that lists are **mutable**, while strings are **immutable**. This means that you can change the value of an entry in a list, but you can't with a string:"
   ]
  },
  {
   "cell_type": "code",
   "execution_count": null,
   "id": "8849e3d4",
   "metadata": {},
   "outputs": [],
   "source": []
  },
  {
   "cell_type": "code",
   "execution_count": null,
   "id": "cafddde9",
   "metadata": {},
   "outputs": [],
   "source": []
  },
  {
   "cell_type": "markdown",
   "id": "47f14426",
   "metadata": {},
   "source": [
    "Copying A major implication of whether an object is mutable or not is how Python handles **copies** of the object. We saw previously that when we made a copy of an integer variable, changing the original variable did not change the copy. This kind of copying is called **deep** copying. It's the default behavior for immutable objects in Python so the same applies to strings:"
   ]
  },
  {
   "cell_type": "code",
   "execution_count": null,
   "id": "fa516ce8",
   "metadata": {},
   "outputs": [],
   "source": []
  },
  {
   "cell_type": "code",
   "execution_count": null,
   "id": "f29962ef",
   "metadata": {},
   "outputs": [],
   "source": []
  },
  {
   "cell_type": "markdown",
   "id": "8d909637",
   "metadata": {},
   "source": [
    "But since lists are mutable, when they're copied, Python makes what's called a **shallow** copy. A shallow copy points to the original rather than reproducing it. This means that a change to the original will immediately cause a change in the \"copy\". And, strangely enough, a change in the copy will immediately change the original!"
   ]
  },
  {
   "cell_type": "code",
   "execution_count": null,
   "id": "1f43f81b",
   "metadata": {},
   "outputs": [],
   "source": []
  },
  {
   "cell_type": "code",
   "execution_count": null,
   "id": "a6cdab84",
   "metadata": {},
   "outputs": [],
   "source": []
  },
  {
   "cell_type": "code",
   "execution_count": null,
   "id": "fc562385",
   "metadata": {},
   "outputs": [],
   "source": []
  },
  {
   "cell_type": "markdown",
   "id": "739803f3",
   "metadata": {},
   "source": [
    "## Conditionals\n",
    "\n",
    "Conditionals let you make decisions in your code with `if`, `elif`, and `else` statements. Often these use **boolean** comparators which evaluate a statement and return whether it is true or false. Python's boolean comparators are\n",
    "\n",
    "| Boolean comparator | Meaning                  |\n",
    "|--------------------|--------------------------|\n",
    "| `>`                | greater than             |\n",
    "| `<`                | less than                |\n",
    "| `>=`               | greater than or equal to |\n",
    "| `<=`               | less than or equal to    |\n",
    "| `!=`               | not equal to             |\n",
    "| `==`               | equal to                 |"
   ]
  },
  {
   "cell_type": "code",
   "execution_count": null,
   "id": "caa4f39d",
   "metadata": {},
   "outputs": [],
   "source": []
  },
  {
   "cell_type": "markdown",
   "id": "03324721",
   "metadata": {},
   "source": [
    "Boolean comparators and conditional statements allow us to change the behavior of Python scripts depending on the values of certain variables. Conditional statements (like the `if` statement) have three parts: 1. The keyword 2. The test condition followed by a colon `:` 3. An indented codeblock that is executed if the test condition is `True`\n",
    "\n",
    "For example:"
   ]
  },
  {
   "cell_type": "code",
   "execution_count": null,
   "id": "794f1312",
   "metadata": {},
   "outputs": [],
   "source": []
  },
  {
   "cell_type": "markdown",
   "id": "038f6ec4",
   "metadata": {},
   "source": [
    "The other conditional statements, `else` and `elif` (short for \"else if\") use the same syntax as the `if` statement, but the must come after an `if` or `elif` statement. They can be used to execute different indented codeblocks under different circumstances.\n",
    "\n",
    "For example:"
   ]
  },
  {
   "cell_type": "code",
   "execution_count": null,
   "id": "e9585fdc",
   "metadata": {},
   "outputs": [],
   "source": []
  },
  {
   "cell_type": "markdown",
   "id": "c3dd84f1",
   "metadata": {},
   "source": [
    "## Loops\n",
    "\n",
    "Loops let you repeat code. The `for` loop goes through each item in an iterable object, like a list:"
   ]
  },
  {
   "cell_type": "code",
   "execution_count": null,
   "id": "882d00c0",
   "metadata": {},
   "outputs": [],
   "source": []
  },
  {
   "cell_type": "markdown",
   "id": "987f3acb",
   "metadata": {},
   "source": [
    "The `range()` function creates an iterable sequence of numbers that can be used to control a `for` loop:"
   ]
  },
  {
   "cell_type": "code",
   "execution_count": null,
   "id": "6c671b15",
   "metadata": {},
   "outputs": [],
   "source": []
  },
  {
   "cell_type": "markdown",
   "id": "52e69688",
   "metadata": {},
   "source": [
    "The `while` loop repeats as long as a condition is True."
   ]
  },
  {
   "cell_type": "code",
   "execution_count": null,
   "id": "7e7495d5",
   "metadata": {},
   "outputs": [],
   "source": []
  },
  {
   "cell_type": "markdown",
   "id": "1f8023d6",
   "metadata": {},
   "source": [
    "The example above is not a great use of a `while` loop because the same thing can be accomplished with a `for` loop and `while` loops have the potential to run forever (or until you manually force the computer to stop). That's called an \"infinite loop\" and can be a pain if triggered accidentally in your code. In the code above, if you left out the list line in the loop, for example, the value of count would never increase and the conditional test (`count < 3`) would always be `True` and the loop would run forever.\n",
    "\n",
    "It's best to reserve `while` loops for situations where you're uncertain how many iterations are needed."
   ]
  }
 ],
 "metadata": {
  "kernelspec": {
   "display_name": ".venv (3.13.3)",
   "language": "python",
   "name": "python3"
  },
  "language_info": {
   "codemirror_mode": {
    "name": "ipython",
    "version": 3
   },
   "file_extension": ".py",
   "mimetype": "text/x-python",
   "name": "python",
   "nbconvert_exporter": "python",
   "pygments_lexer": "ipython3",
   "version": "3.13.3"
  }
 },
 "nbformat": 4,
 "nbformat_minor": 5
}
