{
 "cells": [
  {
   "cell_type": "markdown",
   "metadata": {
    "tags": [
     "read_only"
    ]
   },
   "source": [
    "# TME 310 Assignment XX\n",
    "\n",
    "## Instructions\n",
    "\n",
    "1. Create Python scripts to solve the problems below.\n",
    "2. Use the course guidelines for approaching coding tasks as you work on each problem.\n",
    "3. If any of the problems are taking more than 30 minutes or so, feel free to move on to the reflection questions. Remember - your homework grade doesn't depend on getting the \"right\" answer.\n",
    "4. After working on each script, take some time to think and respond to the reflection questions. Half of your homework grade comes from your reflections.\n",
    "5. When you've finished the assignment, stage, commit, and push your changes to GitHub.\n",
    "\n",
    "Using the terminal, you can do this with the commands: \n",
    "* `git add .` (stages all your changes), \n",
    "* `git commit -m \"<your commit message>\"` (commits all the staged changes), and \n",
    "* `git push` (pushes your committed changes).\n",
    "\n",
    "## Learning Objectives\n",
    "- *Add the relevant course learning objectives here*"
   ]
  },
  {
   "cell_type": "markdown",
   "metadata": {
    "tags": [
     "read_only",
     "problem"
    ]
   },
   "source": [
    "## Problem 1\n",
    "*Objective: ##Update as needed##*\n",
    "\n",
    "*Description: ##Update as needed##*\n"
   ]
  },
  {
   "cell_type": "markdown",
   "metadata": {
    "tags": [
     "read_only",
     "summarize"
    ]
   },
   "source": [
    "A) Summarize the goal of the problem in your own words:"
   ]
  },
  {
   "cell_type": "markdown",
   "metadata": {},
   "source": []
  },
  {
   "cell_type": "markdown",
   "metadata": {
    "tags": [
     "read_only",
     "plan"
    ]
   },
   "source": [
    "B) Describe your plan to solve the problem:"
   ]
  },
  {
   "cell_type": "markdown",
   "metadata": {},
   "source": []
  },
  {
   "cell_type": "markdown",
   "metadata": {
    "tags": [
     "read_only",
     "script"
    ]
   },
   "source": [
    "C) Write a Python script to carry out your solution:"
   ]
  },
  {
   "cell_type": "code",
   "execution_count": 2,
   "metadata": {},
   "outputs": [],
   "source": [
    "# Your code here"
   ]
  },
  {
   "cell_type": "markdown",
   "metadata": {
    "tags": [
     "read_only",
     "reflect"
    ]
   },
   "source": [
    "D) Reflect - Does the model seem to predict behavior consistent with the system being modeled? Explain how you evaluated this."
   ]
  },
  {
   "cell_type": "markdown",
   "metadata": {},
   "source": []
  }
 ],
 "metadata": {
  "kernelspec": {
   "display_name": "tme-310a-2025 (3.12.0)",
   "language": "python",
   "name": "python3"
  },
  "language_info": {
   "codemirror_mode": {
    "name": "ipython",
    "version": 3
   },
   "file_extension": ".py",
   "mimetype": "text/x-python",
   "name": "python",
   "nbconvert_exporter": "python",
   "pygments_lexer": "ipython3",
   "version": "3.12.0"
  }
 },
 "nbformat": 4,
 "nbformat_minor": 4
}
