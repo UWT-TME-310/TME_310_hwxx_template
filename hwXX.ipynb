{
 "cells": [
  {
   "cell_type": "markdown",
   "metadata": {
    "tags": [
     "read_only"
    ]
   },
   "source": [
    "# TME 310 Assignment XX\n",
    "\n",
    "## Instructions\n",
    "\n",
    "1. Create Python scripts to solve the problems below.\n",
    "2. Respond to **all** the prompts. Your grade depends on your text responses more than whether your code is \"correct\".\n",
    "3. When you've finished the assignment, stage, commit, and push your changes to GitHub.\n",
    "\n",
    "Using the terminal, you can do this with the commands: \n",
    "* `git add .` (stages all your changes), \n",
    "* `git commit -m \"your commit message\"` (commits all the staged changes), and \n",
    "* `git push` (pushes your committed changes).\n",
    "\n",
    "## Learning Objectives\n",
    "- ---- UPDATE ----"
   ]
  },
  {
   "cell_type": "markdown",
   "metadata": {
    "tags": [
     "read_only",
     "problem"
    ]
   },
   "source": [
    "## Problem 1\n",
    "*Objective: ---- UPDATE ------*\n",
    "\n",
    "---- UPDATE ----\n"
   ]
  },
  {
   "cell_type": "markdown",
   "metadata": {
    "tags": [
     "read_only",
     "summarize"
    ]
   },
   "source": [
    "**Summarize** the goal of the problem in your own words: "
   ]
  },
  {
   "cell_type": "markdown",
   "metadata": {},
   "source": []
  },
  {
   "cell_type": "markdown",
   "metadata": {
    "tags": [
     "read_only",
     "plan"
    ]
   },
   "source": [
    "Describe your **plan** to solve the problem:"
   ]
  },
  {
   "cell_type": "markdown",
   "metadata": {},
   "source": []
  },
  {
   "cell_type": "markdown",
   "metadata": {
    "tags": [
     "read_only",
     "script"
    ]
   },
   "source": [
    "Write Python **code** to carry out your solution:"
   ]
  },
  {
   "cell_type": "code",
   "execution_count": 1,
   "metadata": {},
   "outputs": [],
   "source": [
    "# Your code here\n"
   ]
  },
  {
   "cell_type": "markdown",
   "metadata": {
    "tags": [
     "read_only",
     "reflect"
    ]
   },
   "source": [
    "Looking back at your code and the resulting output, **reflect** on whether your code achieved the problem goal(s). \n",
    "To the extent the problem models a physical system, how realistic does the behavior seem?\n",
    "Are there any changes you would make to your approach if you were to solve this problem again (e.g., to make your code more re-usable or to avoid dead ends)?"
   ]
  },
  {
   "cell_type": "markdown",
   "metadata": {},
   "source": []
  }
 ],
 "metadata": {
  "kernelspec": {
   "display_name": "Python 3",
   "language": "python",
   "name": "python3"
  },
  "language_info": {
   "codemirror_mode": {
    "name": "ipython",
    "version": 3
   },
   "file_extension": ".py",
   "mimetype": "text/x-python",
   "name": "python",
   "nbconvert_exporter": "python",
   "pygments_lexer": "ipython3",
   "version": "3.12.4"
  }
 },
 "nbformat": 4,
 "nbformat_minor": 4
}
