{
 "cells": [
  {
   "cell_type": "markdown",
   "metadata": {},
   "source": [
    "# TME 310 Assignment Template\n",
    "\n",
    "## Getting Started in GitHub Codespaces\n",
    "\n",
    "1. This notebook should open automatically in VS Code\n",
    "2. Click \"Select Kernel\" in the top-right if prompted, choose Python 3.11\n",
    "3. Start coding in the cells below!\n",
    "4. Use Shift+Enter to run cells\n",
    "\n",
    "## Learning Objectives\n",
    "- Implement numerical methods in Python\n",
    "- Validate results against physical expectations  \n",
    "- Practice effective AI-assisted programming\n",
    "- Document your learning process"
   ]
  },
  {
   "cell_type": "markdown",
   "metadata": {},
   "source": [
    "## Problem Setup\n",
    "\n",
    "**Replace this with your specific assignment problem statement.**\n",
    "\n",
    "Example: Implement Newton's method to find the root of f(x) = x² - 2, representing the deflection equation for a beam under load."
   ]
  },
  {
   "cell_type": "code",
   "execution_count": null,
   "metadata": {},
   "outputs": [],
   "source": [
    "# Import required libraries\n",
    "import numpy as np\n",
    "import matplotlib.pyplot as plt\n",
    "from scipy import optimize\n",
    "\n",
    "# Configure matplotlib for inline plots\n",
    "%matplotlib inline\n",
    "plt.style.use('default')\n",
    "\n",
    "print(\"✓ Libraries imported successfully\")"
   ]
  },
  {
   "cell_type": "markdown",
   "metadata": {},
   "source": [
    "## Implementation\n",
    "\n",
    "Complete your solution in the cells below. Add additional cells as needed."
   ]
  },
  {
   "cell_type": "code",
   "execution_count": null,
   "metadata": {},
   "outputs": [],
   "source": [
    "# Define your main function here\n",
    "def solve_problem():\n",
    "    \"\"\"\n",
    "    Main function to solve the assignment problem.\n",
    "    \n",
    "    Returns:\n",
    "        result: Your computed result\n",
    "    \"\"\"\n",
    "    # Your implementation here\n",
    "    pass\n",
    "\n",
    "# Test your function\n",
    "# result = solve_problem()\n",
    "# print(f\"Result: {result}\")"
   ]
  },
  {
   "cell_type": "code",
   "execution_count": null,
   "metadata": {},
   "outputs": [],
   "source": [
    "# Additional implementation cells\n",
    "# Add more cells as needed for your solution"
   ]
  },
  {
   "cell_type": "markdown",
   "metadata": {},
   "source": [
    "## Validation and Analysis\n",
    "\n",
    "Always validate your results against physical expectations and known solutions."
   ]
  },
  {
   "cell_type": "code",
   "execution_count": null,
   "metadata": {},
   "outputs": [],
   "source": [
    "# Validation tests\n",
    "def validate_solution(result):\n",
    "    \"\"\"\n",
    "    Validate your solution against expected behavior.\n",
    "    \n",
    "    Args:\n",
    "        result: Your computed result\n",
    "    \n",
    "    Returns:\n",
    "        bool: True if validation passes\n",
    "    \"\"\"\n",
    "    # Add your validation logic here\n",
    "    # Check units, magnitude, physical reasonableness\n",
    "    pass\n",
    "\n",
    "# Run validation\n",
    "# is_valid = validate_solution(result)\n",
    "# print(f\"Validation passed: {is_valid}\")"
   ]
  },
  {
   "cell_type": "code",
   "execution_count": null,
   "metadata": {},
   "outputs": [],
   "source": [
    "# Create visualizations to understand your results\n",
    "plt.figure(figsize=(10, 6))\n",
    "\n",
    "# Add your plots here\n",
    "# Example:\n",
    "# x = np.linspace(0, 10, 100)\n",
    "# y = your_function(x)\n",
    "# plt.plot(x, y, label='Your solution')\n",
    "\n",
    "plt.xlabel('X-axis label')\n",
    "plt.ylabel('Y-axis label') \n",
    "plt.title('Your Analysis Title')\n",
    "plt.legend()\n",
    "plt.grid(True, alpha=0.3)\n",
    "plt.show()"
   ]
  },
  {
   "cell_type": "markdown",
   "metadata": {},
   "source": [
    "## AI Interaction Log\n",
    "\n",
    "Document your AI assistance here:\n",
    "\n",
    "### Interaction 1:\n",
    "- **My Question:** \n",
    "- **AI Response Summary:** \n",
    "- **Did it work?** Yes/No - Why?\n",
    "- **Validation steps taken:** \n",
    "\n",
    "### Interaction 2:\n",
    "- **My Question:** \n",
    "- **AI Response Summary:** \n",
    "- **Did it work?** Yes/No - Why?\n",
    "- **Validation steps taken:** \n",
    "\n",
    "*(Add more interactions as needed)*"
   ]
  },
  {
   "cell_type": "markdown",
   "metadata": {},
   "source": [
    "## Validation Checklist\n",
    "\n",
    "Before submitting, verify:\n",
    "\n",
    "- [ ] Units are correct and consistent\n",
    "- [ ] Results are physically reasonable (order of magnitude, sign, etc.)\n",
    "- [ ] Algorithm converges (if applicable)\n",
    "- [ ] Code handles edge cases appropriately\n",
    "- [ ] Compared to analytical solution or reference values (if available)\n",
    "- [ ] Plots and visualizations support your conclusions\n",
    "\n",
    "## Reflection Questions\n",
    "\n",
    "1. **What was the most challenging aspect of this assignment?**\n",
    "   \n",
    "   *Your answer here*\n",
    "\n",
    "2. **How did AI assistance help or hinder your understanding?**\n",
    "   \n",
    "   *Your answer here*\n",
    "\n",
    "3. **What would you do differently if solving a similar problem?**\n",
    "   \n",
    "   *Your answer here*\n",
    "\n",
    "4. **What validation steps became automatic for you during this assignment?**\n",
    "   \n",
    "   *Your answer here*"
   ]
  }
 ],
 "metadata": {
  "kernelspec": {
   "display_name": "Python 3",
   "language": "python",
   "name": "python3"
  },
  "language_info": {
   "codemirror_mode": {
    "name": "ipython",
    "version": 3
   },
   "file_extension": ".py",
   "mimetype": "text/x-python",
   "name": "python",
   "nbconvert_exporter": "python",
   "pygments_lexer": "ipython3",
   "version": "3.11.0"
  }
 },
 "nbformat": 4,
 "nbformat_minor": 4
}