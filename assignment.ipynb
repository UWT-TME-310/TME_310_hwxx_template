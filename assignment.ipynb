{
 "cells": [
  {
   "cell_type": "markdown",
   "metadata": {},
   "source": [
    "# TME 310 Assignment XX\n",
    "\n",
    "## Instructions\n",
    "\n",
    "1. Create Python scripts to solve the problems below.\n",
    "2. Use the course guidelines for approaching coding tasks as you work on each problem.\n",
    "3. If any of the problems are taking more than 30 minutes or so, feel free to move on to the reflection questions. Remember - your homework grade doesn't depend on getting the \"right\" answer.\n",
    "4. After working on each script, take some time to think and respond to the reflection questions. Half of your homework grade comes from your reflections.\n",
    "5. When you've finished the assignment, stage, commit, and push your changes to GitHub.\n",
    "\n",
    "Using the terminal, you can do this with the commands: \n",
    "* `git add .` (stages all your changes), \n",
    "* `git commit -m \"<your commit message>\"` (commits all the staged changes), and \n",
    "* `git push` (pushes your committed changes).\n",
    "\n",
    "## Learning Objectives\n",
    "- Use code-cased numerical tools"
   ]
  },
  {
   "cell_type": "markdown",
   "metadata": {},
   "source": [
    "## Problem 1\n",
    "\n",
    "### Coding\n",
    "*Objective: Confirm your ability to access the course coding environment and submit assignments with GitHub.*\n",
    "\n",
    "Write a Python script that creates three variables: `a`, `b`, and `c`. \n",
    "Assign numeric values of your choosing to `a` and `b`. \n",
    "Use basic arithmetic (i.e., `+`, `-`, `*`, `/`) operations of your choosing on `a` and `b` to assign a value to `c`.\n"
   ]
  },
  {
   "cell_type": "code",
   "execution_count": 1,
   "metadata": {},
   "outputs": [],
   "source": [
    "# Your code here\n",
    "a = 1\n",
    "b = 2\n",
    "c = a + b"
   ]
  },
  {
   "cell_type": "markdown",
   "metadata": {},
   "source": [
    "### Reflection\n",
    "*Objective: Demonstrate your understanding of the coding task and the assignment instructions*\n",
    "\n",
    "Use the provided markdown cells to answer the following questions:\n",
    "1. Are you able to verify whether the values that Python associates with the variables `a`, `b`, and `c` are what you expect them to be? Explain how you know what values Python associates with the variables."
   ]
  },
  {
   "cell_type": "markdown",
   "metadata": {},
   "source": []
  },
  {
   "cell_type": "markdown",
   "metadata": {},
   "source": [
    "2. Describe your experience accessing this assignment and using the provided coding environment. Was it straightforward or were there steps that caused you trouble?"
   ]
  },
  {
   "cell_type": "markdown",
   "metadata": {},
   "source": []
  }
 ],
 "metadata": {
  "kernelspec": {
   "display_name": ".venv (3.13.3)",
   "language": "python",
   "name": "python3"
  },
  "language_info": {
   "codemirror_mode": {
    "name": "ipython",
    "version": 3
   },
   "file_extension": ".py",
   "mimetype": "text/x-python",
   "name": "python",
   "nbconvert_exporter": "python",
   "pygments_lexer": "ipython3",
   "version": "3.13.3"
  }
 },
 "nbformat": 4,
 "nbformat_minor": 4
}
